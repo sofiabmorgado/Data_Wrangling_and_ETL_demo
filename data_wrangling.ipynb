{
 "cells": [
  {
   "cell_type": "markdown",
   "metadata": {},
   "source": [
    "# Data Wrangling"
   ]
  },
  {
   "cell_type": "markdown",
   "metadata": {},
   "source": [
    "## General"
   ]
  },
  {
   "cell_type": "code",
   "execution_count": null,
   "metadata": {},
   "outputs": [],
   "source": [
    "from bs4 import BeautifulSoup\n",
    "import html5lib\n",
    "import requests\n",
    "import pandas as pd\n",
    "import glob\n",
    "import pandas as pd\n",
    "from datetime import datetime"
   ]
  },
  {
   "cell_type": "markdown",
   "metadata": {},
   "source": [
    "## Web Scrapping"
   ]
  },
  {
   "cell_type": "code",
   "execution_count": null,
   "metadata": {},
   "outputs": [],
   "source": [
    "#Gather contents from a webpage\n",
    "html_data = requests.get('https://web.archive.org/web/20200318083015/https://en.wikipedia.org/wiki/List_of_largest_banks').text\n",
    "\n",
    "#Call BeautifulSoup ##https://www.crummy.com/software/BeautifulSoup/bs4/doc/\n",
    "soup = BeautifulSoup(html_data, 'lxml')\n",
    "#print(soup.title) #print the title\n",
    "#print(soup.get_text()) #print all the text\n",
    "\n",
    "#Create dataframe with the data\n",
    "data = pd.DataFrame(columns=[\"Name\", \"Market Cap (US$ Billion)\"])\n",
    "\n",
    "for row in soup.find_all('tbody')[2].find_all('tr'): #access table\n",
    "    col = row.find_all('td')\n",
    "    if len(col) != 0: \n",
    "        data = data.append({'Name': col[1].text.strip(),\n",
    "                            'Market Cap (US$ Billion)': col[2].text.strip()}, \n",
    "                           ignore_index=True)\n",
    "\n",
    "#Save in a CSV\n",
    "data.to_csv(\"bank_market_cap.csv\")"
   ]
  },
  {
   "cell_type": "markdown",
   "metadata": {},
   "source": [
    "## Extract API Data"
   ]
  },
  {
   "cell_type": "code",
   "execution_count": null,
   "metadata": {},
   "outputs": [],
   "source": [
    "# Call the API\n",
    "r = requests.get(\"http://api.exchangeratesapi.io/v1/latest?base=EUR&access_key=8bbf163efe60391f378397ee7307d7aa\")\n",
    "\n",
    "#Save as df\n",
    "j = r.json()\n",
    "df = pd.DataFrame.from_dict(j)\n",
    "\n",
    "df.to_csv(\"exchange_rates_1.csv\")"
   ]
  }
 ],
 "metadata": {
  "language_info": {
   "name": "python"
  },
  "orig_nbformat": 4
 },
 "nbformat": 4,
 "nbformat_minor": 2
}
